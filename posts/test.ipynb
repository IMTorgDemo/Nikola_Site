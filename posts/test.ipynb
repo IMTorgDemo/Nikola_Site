{
 "cells": [
  {
   "cell_type": "markdown",
   "metadata": {},
   "source": [
    "Write your post here."
   ]
  }
 ],
 "metadata": {
  "kernelspec": {
   "display_name": "Python 3",
   "env": {},
   "interrupt_mode": "signal",
   "language": "python",
   "metadata": {},
   "name": "python3"
  },
  "nikola": {
   "category": "",
   "date": "2018-02-21 06:56:18 UTC+01:00",
   "description": "",
   "link": "",
   "slug": "test",
   "tags": "",
   "title": "Test",
   "type": "text"
  }
 },
 "nbformat": 4,
 "nbformat_minor": 0
}
